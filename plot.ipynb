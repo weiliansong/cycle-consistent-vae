{
 "cells": [
  {
   "cell_type": "code",
   "execution_count": null,
   "metadata": {},
   "outputs": [],
   "source": [
    "%matplotlib inline\n",
    "\n",
    "import pandas as pd\n",
    "import matplotlib.pyplot as plt"
   ]
  },
  {
   "cell_type": "code",
   "execution_count": null,
   "metadata": {},
   "outputs": [],
   "source": [
    "vanilla_path = './turn_in/vae_gan/vanilla/log.txt'\n",
    "forward_path = './turn_in/vae_gan/with_forward_gan/log.txt'\n",
    "reverse_path = './turn_in/vae_gan/with_reverse_gan/log.txt'\n",
    "bidir_path = './turn_in/vae_gan/bi_directional_gan/log.txt'"
   ]
  },
  {
   "cell_type": "code",
   "execution_count": null,
   "metadata": {},
   "outputs": [],
   "source": [
    "vanilla_df = pd.read_csv(vanilla_path, sep='\\t')\n",
    "forward_df = pd.read_csv(forward_path, sep='\\t')\n",
    "reverse_df = pd.read_csv(reverse_path, sep='\\t')\n",
    "bidir_df = pd.read_csv(bidir_path, sep='\\t')"
   ]
  },
  {
   "cell_type": "code",
   "execution_count": null,
   "metadata": {},
   "outputs": [],
   "source": [
    "def smooth(column, weight):  # Weight between 0 and 1\n",
    "  scalars = column.values\n",
    "  last = scalars[0]  # First value in the plot (first timestep)\n",
    "  smoothed = list()\n",
    "  for point in scalars:\n",
    "      smoothed_val = last * weight + (1 - weight) * point  # Calculate smoothed value\n",
    "      smoothed.append(smoothed_val)                        # Save it\n",
    "      last = smoothed_val                                  # Anchor the last smoothed value\n",
    "\n",
    "  return smoothed"
   ]
  },
  {
   "cell_type": "code",
   "execution_count": null,
   "metadata": {},
   "outputs": [],
   "source": [
    "plt.clf()\n",
    "plt.figure(dpi=200)\n",
    "plt.plot(smooth(vanilla_df['Reconstruction_loss'], 0.9), label='Vanilla')\n",
    "plt.plot(smooth(forward_df['Reconstruction_loss'], 0.9), label='Forward Only')\n",
    "plt.plot(smooth(reverse_df['Reconstruction_loss'], 0.9), label='Reverse Only')\n",
    "plt.plot(smooth(bidir_df['Reconstruction_loss'], 0.9), label='Full')\n",
    "plt.xlabel('Iterations')\n",
    "plt.ylabel('Loss')\n",
    "plt.title('Reconstruction Loss')\n",
    "plt.legend()\n",
    "plt.savefig('./reconstruction_loss.png')"
   ]
  },
  {
   "cell_type": "code",
   "execution_count": null,
   "metadata": {},
   "outputs": [],
   "source": []
  }
 ],
 "metadata": {
  "kernelspec": {
   "display_name": "Python 3",
   "language": "python",
   "name": "python3"
  },
  "language_info": {
   "codemirror_mode": {
    "name": "ipython",
    "version": 3
   },
   "file_extension": ".py",
   "mimetype": "text/x-python",
   "name": "python",
   "nbconvert_exporter": "python",
   "pygments_lexer": "ipython3",
   "version": "3.6.5"
  }
 },
 "nbformat": 4,
 "nbformat_minor": 2
}
